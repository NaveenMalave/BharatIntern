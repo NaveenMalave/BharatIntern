{
 "cells": [
  {
   "cell_type": "markdown",
   "metadata": {
    "id": "01waLhk-iu6A"
   },
   "source": [
    "#RESUME PARSER"
   ]
  },
  {
   "cell_type": "markdown",
   "metadata": {
    "id": "KOvdLmi0iz36"
   },
   "source": [
    "Installing dependencies"
   ]
  },
  {
   "cell_type": "code",
   "execution_count": null,
   "metadata": {
    "colab": {
     "base_uri": "https://localhost:8080/"
    },
    "executionInfo": {
     "elapsed": 6311,
     "status": "ok",
     "timestamp": 1689003841952,
     "user": {
      "displayName": "Malave Navanishwara Rao",
      "userId": "11311349866932830278"
     },
     "user_tz": -330
    },
    "id": "fvmsCTZhdB0D",
    "outputId": "b58d6950-96f6-46a0-cf26-9f1af357dae9"
   },
   "outputs": [
    {
     "name": "stdout",
     "output_type": "stream",
     "text": [
      "Collecting tika\n",
      "  Downloading tika-2.6.0.tar.gz (27 kB)\n",
      "  Preparing metadata (setup.py) ... \u001b[?25l\u001b[?25hdone\n",
      "Requirement already satisfied: setuptools in /usr/local/lib/python3.10/dist-packages (from tika) (67.7.2)\n",
      "Requirement already satisfied: requests in /usr/local/lib/python3.10/dist-packages (from tika) (2.27.1)\n",
      "Requirement already satisfied: urllib3<1.27,>=1.21.1 in /usr/local/lib/python3.10/dist-packages (from requests->tika) (1.26.16)\n",
      "Requirement already satisfied: certifi>=2017.4.17 in /usr/local/lib/python3.10/dist-packages (from requests->tika) (2023.5.7)\n",
      "Requirement already satisfied: charset-normalizer~=2.0.0 in /usr/local/lib/python3.10/dist-packages (from requests->tika) (2.0.12)\n",
      "Requirement already satisfied: idna<4,>=2.5 in /usr/local/lib/python3.10/dist-packages (from requests->tika) (3.4)\n",
      "Building wheels for collected packages: tika\n",
      "  Building wheel for tika (setup.py) ... \u001b[?25l\u001b[?25hdone\n",
      "  Created wheel for tika: filename=tika-2.6.0-py3-none-any.whl size=32625 sha256=268f5ff7eacad6a6a6012b4e0e09548352e15463a8985b280ac9b4db3381a2ac\n",
      "  Stored in directory: /root/.cache/pip/wheels/5f/71/c7/b757709531121b1700cffda5b6b0d4aad095fb507ec84316d0\n",
      "Successfully built tika\n",
      "Installing collected packages: tika\n",
      "Successfully installed tika-2.6.0\n"
     ]
    }
   ],
   "source": [
    "!pip install tika"
   ]
  },
  {
   "cell_type": "markdown",
   "metadata": {
    "id": "oBL7a0-2i3DP"
   },
   "source": [
    "Extracting text from pdf"
   ]
  },
  {
   "cell_type": "code",
   "execution_count": null,
   "metadata": {
    "colab": {
     "base_uri": "https://localhost:8080/"
    },
    "executionInfo": {
     "elapsed": 12748,
     "status": "ok",
     "timestamp": 1689003932763,
     "user": {
      "displayName": "Malave Navanishwara Rao",
      "userId": "11311349866932830278"
     },
     "user_tz": -330
    },
    "id": "lJlbUUt4dHCm",
    "outputId": "a735ba2b-4033-4ca4-b5ae-8a068c23c903"
   },
   "outputs": [
    {
     "name": "stderr",
     "output_type": "stream",
     "text": [
      "2023-07-10 15:45:20,191 [MainThread  ] [INFO ]  Retrieving http://search.maven.org/remotecontent?filepath=org/apache/tika/tika-server-standard/2.6.0/tika-server-standard-2.6.0.jar to /tmp/tika-server.jar.\n",
      "INFO:tika.tika:Retrieving http://search.maven.org/remotecontent?filepath=org/apache/tika/tika-server-standard/2.6.0/tika-server-standard-2.6.0.jar to /tmp/tika-server.jar.\n",
      "2023-07-10 15:45:20,815 [MainThread  ] [INFO ]  Retrieving http://search.maven.org/remotecontent?filepath=org/apache/tika/tika-server-standard/2.6.0/tika-server-standard-2.6.0.jar.md5 to /tmp/tika-server.jar.md5.\n",
      "INFO:tika.tika:Retrieving http://search.maven.org/remotecontent?filepath=org/apache/tika/tika-server-standard/2.6.0/tika-server-standard-2.6.0.jar.md5 to /tmp/tika-server.jar.md5.\n",
      "2023-07-10 15:45:21,114 [MainThread  ] [WARNI]  Failed to see startup log message; retrying...\n",
      "WARNING:tika.tika:Failed to see startup log message; retrying...\n",
      "2023-07-10 15:45:26,126 [MainThread  ] [WARNI]  Failed to see startup log message; retrying...\n",
      "WARNING:tika.tika:Failed to see startup log message; retrying...\n"
     ]
    },
    {
     "name": "stdout",
     "output_type": "stream",
     "text": [
      "\n",
      "\n",
      "\n",
      "\n",
      "\n",
      "\n",
      "\n",
      "\n",
      "\n",
      "\n",
      "\n",
      "\n",
      "\n",
      "\n",
      "\n",
      "\n",
      "\n",
      "\n",
      "\n",
      "\n",
      "\n",
      "\n",
      "\n",
      "\n",
      "\n",
      "\n",
      "\n",
      "\n",
      "\n",
      "\n",
      "\n",
      "\n",
      "\n",
      "Microsoft Word - LOKESH_resume.docx(1)[1][1] (13) (5) (1)\n",
      "\n",
      "\n",
      "RESUME \n",
      "\n",
      "MANERI RUPESH KUMAR \n",
      "Email: rupeshkumarrlr@gmail.com \n",
      "Contact No: +919398945608 \n",
      "\n",
      "CAREEROBJECTIVE: \n",
      "\n",
      "To be an integral part of a competitive work environment, which would help me \n",
      "grow, both on the intellectual and personal front while contributing to the growth and \n",
      "success of the organization. \n",
      "\n",
      "EDUCATIONALQUALIFICATION: \n",
      "\n",
      "Institution \n",
      "\n",
      "Board/ \n",
      "University \n",
      "\n",
      "Examination \n",
      "Year of \n",
      "passing \n",
      "\n",
      "% obtained \n",
      "\n",
      "Sri Venkateshwara \n",
      "Engineering College, \n",
      "Tirupati. \n",
      "\n",
      "JNTUA B. Tech (CSE) 2024 73.06 \n",
      "\n",
      "S.R Junior College, \n",
      "Tirupati \n",
      "\n",
      "Intermediate MPC 2020 7.75(CGPA) \n",
      "\n",
      "Sri Raju E.M. High \n",
      "School \n",
      "\n",
      "SSC 10th standard 2018 8.7(GPA) \n",
      "\n",
      "TECHNICALPROFILE: \n",
      "\n",
      " Programming Languages:   C , HTML ,CSS \n",
      "\n",
      "INTERNSHIP & COURSES: \n",
      "\n",
      "● YHILLS EDUTECH (06/2023 – PRESENT) \n",
      "• Learning python with machine learning  \n",
      "\n",
      "● Colour Detection Project (06/2022 – 06/2022) \n",
      "● Doctor Visit Analysis Using Python (07/2023 – Present) \n",
      "\n",
      "SKILLS: \n",
      "\n",
      "● C PROGRAMMING \n",
      "\n",
      "● HTML & CSS \n",
      "\n",
      "● MICROSOFT OFFICE  ( WORD,EXCEL,POWER  POINT ) \n",
      "\n",
      " \n",
      "\n",
      "\n",
      "\n",
      " \n",
      "\n",
      " \n",
      "\n",
      "STRENGTHS: \n",
      "\n",
      "● Adaptive. \n",
      "\n",
      "● Work well in a team or individually. \n",
      "\n",
      "● Leadership and organized qualities. \n",
      "\n",
      "● Ability to work under pressure. \n",
      "\n",
      "DETAILS: \n",
      "\n",
      "● Father’s Name      : Maneri Swamy Nadha \n",
      "\n",
      "● Date of Birth         : 11-09-2002 \n",
      "\n",
      "● Languages Known: English,Hindi and  Telugu \n",
      "\n",
      "● Hobbies                  : Browsing internet to know new things and Watching Movies.  \n",
      "\n",
      "● Achievement          : I got 2nd dan Black Belt in karate \n",
      "\n",
      "REFERENCE: \n",
      "\n",
      "I, Rupesh Kumar do hereby confirm that all the details furnished above are true to \n",
      "the best of my knowledge and belief. \n",
      "\n",
      "Date:  \n",
      "\n",
      "Place:  (RUPESH  KUMAR.M) \n",
      "\n",
      "\n",
      "\n"
     ]
    }
   ],
   "source": [
    "from tika import parser\n",
    "file = r'../content/Rupesh kumar resume.pdf'\n",
    "file_data = parser.from_file(file)\n",
    "text = file_data['content']\n",
    "print(text)"
   ]
  },
  {
   "cell_type": "markdown",
   "metadata": {
    "id": "xX0w_D6ejFUG"
   },
   "source": [
    "Creating a dictionary to store parsed content"
   ]
  },
  {
   "cell_type": "code",
   "execution_count": null,
   "metadata": {
    "id": "3lBx5DlidG_S"
   },
   "outputs": [],
   "source": [
    "parsed_content = {}"
   ]
  },
  {
   "cell_type": "markdown",
   "metadata": {
    "id": "rNwSXQu9jKDt"
   },
   "source": [
    "Extracting E-Mail from the text"
   ]
  },
  {
   "cell_type": "code",
   "execution_count": null,
   "metadata": {
    "colab": {
     "base_uri": "https://localhost:8080/"
    },
    "executionInfo": {
     "elapsed": 13,
     "status": "ok",
     "timestamp": 1689003979437,
     "user": {
      "displayName": "Malave Navanishwara Rao",
      "userId": "11311349866932830278"
     },
     "user_tz": -330
    },
    "id": "oCtU2e7qdG9g",
    "outputId": "ee88d2f8-b0ca-48c4-e27d-80d0ff9bda53"
   },
   "outputs": [
    {
     "name": "stdout",
     "output_type": "stream",
     "text": [
      "['rupeshkumarrlr@gmail.com']\n"
     ]
    }
   ],
   "source": [
    "#E-MAIL\n",
    "import re\n",
    "def get_email_addresses(string):\n",
    "    r = re.compile(r'[\\w\\.-]+@[\\w\\.-]+')\n",
    "    return r.findall(string)\n",
    "\n",
    "email = get_email_addresses(text)\n",
    "print(email)\n",
    "parsed_content['E-mail'] = email"
   ]
  },
  {
   "cell_type": "markdown",
   "metadata": {
    "id": "Cq3NjSo9jOgE"
   },
   "source": [
    "Extracting Phone Number"
   ]
  },
  {
   "cell_type": "code",
   "execution_count": null,
   "metadata": {
    "colab": {
     "base_uri": "https://localhost:8080/"
    },
    "executionInfo": {
     "elapsed": 11,
     "status": "ok",
     "timestamp": 1689003982333,
     "user": {
      "displayName": "Malave Navanishwara Rao",
      "userId": "11311349866932830278"
     },
     "user_tz": -330
    },
    "id": "qFPO2qNMdG6m",
    "outputId": "1fdb867b-1353-4780-c079-f06acf59897c"
   },
   "outputs": [
    {
     "name": "stdout",
     "output_type": "stream",
     "text": [
      "['9193989456']\n"
     ]
    }
   ],
   "source": [
    "#PHONE NUMBER\n",
    "import re\n",
    "def get_phone_numbers(string):\n",
    "    r = re.compile(r'(\\d{3}[-\\.\\s]??\\d{3}[-\\.\\s]??\\d{4}|\\(\\d{3}\\)\\s*\\d{3}[-\\.\\s]??\\d{4}|\\d{3}[-\\.\\s]??\\d{4})')\n",
    "    phone_numbers = r.findall(string)\n",
    "    return [re.sub(r'\\D', '', num) for num in phone_numbers]\n",
    "\n",
    "phone_number= get_phone_numbers(text)\n",
    "if len(phone_number) <= 10:\n",
    "    print(phone_number)\n",
    "    parsed_content['Phone number'] = phone_number"
   ]
  },
  {
   "cell_type": "markdown",
   "metadata": {
    "id": "X5KpmrDwjSOo"
   },
   "source": [
    "Extracting Name"
   ]
  },
  {
   "cell_type": "code",
   "execution_count": null,
   "metadata": {
    "id": "YOweLWGddG4b"
   },
   "outputs": [],
   "source": [
    "import spacy\n",
    "nlp = spacy.load('en_core_web_sm')\n",
    "from spacy.matcher import Matcher\n",
    "matcher = Matcher(nlp.vocab)\n",
    "\n",
    "def extract_name(text):\n",
    "   nlp_text = nlp(text)\n",
    "\n",
    "   # First name and Last name are always Proper Nouns\n",
    "   pattern = [{'POS': 'PROPN'}, {'POS': 'PROPN'}]\n",
    "\n",
    "   matcher.add('NAME', [pattern], on_match = None)\n",
    "\n",
    "   matches = matcher(nlp_text)\n",
    "\n",
    "   for match_id, start, end in matches:\n",
    "       span = nlp_text[start:end]\n",
    "       return span.text\n"
   ]
  },
  {
   "cell_type": "markdown",
   "metadata": {
    "id": "hgxAM0F2jWG2"
   },
   "source": [
    "List of Keywords to identify 'Headings' in the Resume text"
   ]
  },
  {
   "cell_type": "code",
   "execution_count": null,
   "metadata": {
    "id": "1k6XUenLdG1r"
   },
   "outputs": [],
   "source": [
    "Keywords = [\"education\",\n",
    "            \"summary\",\n",
    "            \"accomplishments\",\n",
    "            \"executive profile\",\n",
    "            \"professional profile\",\n",
    "            \"personal profile\",\n",
    "            \"work background\",\n",
    "            \"academic profile\",\n",
    "            \"other activities\",\n",
    "            \"qualifications\",\n",
    "            \"experience\",\n",
    "            \"interests\",\n",
    "            \"skills\",\n",
    "            \"achievements\",\n",
    "            \"publications\",\n",
    "            \"publication\",\n",
    "            \"certifications\",\n",
    "            \"workshops\",\n",
    "            \"projects\",\n",
    "            \"internships\",\n",
    "            \"trainings\",\n",
    "            \"hobbies\",\n",
    "            \"overview\",\n",
    "            \"objective\",\n",
    "            \"position of responsibility\",\n",
    "            \"jobs\"\n",
    "           ]"
   ]
  },
  {
   "cell_type": "markdown",
   "metadata": {
    "id": "eE7_YFERjZhs"
   },
   "source": [
    "Cleaning the resume text"
   ]
  },
  {
   "cell_type": "code",
   "execution_count": null,
   "metadata": {
    "colab": {
     "base_uri": "https://localhost:8080/"
    },
    "executionInfo": {
     "elapsed": 452,
     "status": "ok",
     "timestamp": 1689004062057,
     "user": {
      "displayName": "Malave Navanishwara Rao",
      "userId": "11311349866932830278"
     },
     "user_tz": -330
    },
    "id": "h61JUHgrdGzj",
    "outputId": "3155af4c-6cb2-4dd3-df7a-fe80e56fe520"
   },
   "outputs": [
    {
     "name": "stdout",
     "output_type": "stream",
     "text": [
      "                                 microsoft word - lokesh_resume.docx(1)[1][1] (13) (5) (1)   resume   maneri rupesh kumar  email: rupeshkumarrlr@gmail.com  contact no: +919398945608   careerobjective:   to be an integral part of a competitive work environment, which would help me  grow, both on the intellectual and personal front while contributing to the growth and  success of the organization.   educationalqualification:   institution   board/  university   examination  year of  passing   % obtained   sri venkateshwara  engineering college,  tirupati.   jntua b. tech (cse) 2024 73.06   s.r junior college,  tirupati   intermediate mpc 2020 7.75(cgpa)   sri raju e.m. high  school   ssc 10th standard 2018 8.7(gpa)   technicalprofile:    programming languages:   c , html ,css   internship & courses:   ● yhills edutech (06/2023 – present)  • learning python with machine learning    ● colour detection project (06/2022 – 06/2022)  ● doctor visit analysis using python (07/2023 – present)   skills:   ● c programming   ● html & css   ● microsoft office  ( word,excel,power  point )              strengths:   ● adaptive.   ● work well in a team or individually.   ● leadership and organized qualities.   ● ability to work under pressure.   details:   ● father’s name      : maneri swamy nadha   ● date of birth         : 11-09-2002   ● languages known: english,hindi and  telugu   ● hobbies                  : browsing internet to know new things and watching movies.    ● achievement          : i got 2nd dan black belt in karate   reference:   i, rupesh kumar do hereby confirm that all the details furnished above are true to  the best of my knowledge and belief.   date:    place:  (rupesh  kumar.m)    \n"
     ]
    }
   ],
   "source": [
    "text = text.replace(\"\\n\",\" \")\n",
    "text = text.replace(\"[^a-zA-Z0-9]\", \" \");\n",
    "re.sub('\\W+','', text)\n",
    "text = text.lower()\n",
    "print(text)"
   ]
  },
  {
   "cell_type": "markdown",
   "metadata": {
    "id": "7-stOOFsjdGb"
   },
   "source": [
    "Finding the headings and corresponding indices"
   ]
  },
  {
   "cell_type": "code",
   "execution_count": null,
   "metadata": {
    "id": "NLwiqj9tdGxF"
   },
   "outputs": [],
   "source": [
    "content = {}\n",
    "indices = []\n",
    "keys = []\n",
    "for key in Keywords:\n",
    "    try:\n",
    "        content[key] = text[text.index(key) + len(key):]\n",
    "        indices.append(text.index(key))\n",
    "        keys.append(key)\n",
    "    except:\n",
    "        pass\n"
   ]
  },
  {
   "cell_type": "code",
   "execution_count": null,
   "metadata": {
    "colab": {
     "base_uri": "https://localhost:8080/"
    },
    "executionInfo": {
     "elapsed": 9,
     "status": "ok",
     "timestamp": 1689004067002,
     "user": {
      "displayName": "Malave Navanishwara Rao",
      "userId": "11311349866932830278"
     },
     "user_tz": -330
    },
    "id": "ipj3eNVHdGug",
    "outputId": "4c2ad4af-c945-4d2f-f498-2db734bb5217"
   },
   "outputs": [
    {
     "data": {
      "text/plain": [
       "['objective', 'education', 'skills', 'hobbies']"
      ]
     },
     "execution_count": 11,
     "metadata": {},
     "output_type": "execute_result"
    }
   ],
   "source": [
    "#Sorting the indices\n",
    "zipped_lists = zip(indices, keys)\n",
    "sorted_pairs = sorted(zipped_lists)\n",
    "sorted_pairs\n",
    "\n",
    "tuples = zip(*sorted_pairs)\n",
    "indices, keys = [ list(tuple) for tuple in  tuples]\n",
    "keys"
   ]
  },
  {
   "cell_type": "code",
   "execution_count": null,
   "metadata": {
    "id": "nidugB7MdGsJ"
   },
   "outputs": [],
   "source": [
    "#Keeping the required content and removing the redundant part\n",
    "content = []\n",
    "for idx in range(len(indices)):\n",
    "    if idx != len(indices)-1:\n",
    "        content.append(text[indices[idx]: indices[idx+1]])\n",
    "    else:\n",
    "        content.append(text[indices[idx]: ])"
   ]
  },
  {
   "cell_type": "markdown",
   "metadata": {
    "id": "Yn4F4J4BjkeK"
   },
   "source": [
    "Storing the parsed content in the dictionary"
   ]
  },
  {
   "cell_type": "code",
   "execution_count": null,
   "metadata": {
    "id": "0RJWv9hVdGpv"
   },
   "outputs": [],
   "source": [
    "for i in range(len(indices)):\n",
    "    parsed_content[keys[i]] = content[i]"
   ]
  },
  {
   "cell_type": "code",
   "execution_count": null,
   "metadata": {
    "colab": {
     "base_uri": "https://localhost:8080/"
    },
    "executionInfo": {
     "elapsed": 9,
     "status": "ok",
     "timestamp": 1689004076287,
     "user": {
      "displayName": "Malave Navanishwara Rao",
      "userId": "11311349866932830278"
     },
     "user_tz": -330
    },
    "id": "e0h4MdmcdGnY",
    "outputId": "18266dcf-56cf-4d6c-eed6-710197aa77b6"
   },
   "outputs": [
    {
     "data": {
      "text/plain": [
       "{'E-mail': ['rupeshkumarrlr@gmail.com'],\n",
       " 'Phone number': ['9193989456'],\n",
       " 'objective': 'objective:   to be an integral part of a competitive work environment, which would help me  grow, both on the intellectual and personal front while contributing to the growth and  success of the organization.   ',\n",
       " 'education': 'educationalqualification:   institution   board/  university   examination  year of  passing   % obtained   sri venkateshwara  engineering college,  tirupati.   jntua b. tech (cse) 2024 73.06   s.r junior college,  tirupati   intermediate mpc 2020 7.75(cgpa)   sri raju e.m. high  school   ssc 10th standard 2018 8.7(gpa)   technicalprofile:   \\uf0b7 programming languages:   c , html ,css   internship & courses:   ● yhills edutech (06/2023 – present)  • learning python with machine learning    ● colour detection project (06/2022 – 06/2022)  ● doctor visit analysis using python (07/2023 – present)   ',\n",
       " 'skills': 'skills:   ● c programming   ● html & css   ● microsoft office  ( word,excel,power  point )              strengths:   ● adaptive.   ● work well in a team or individually.   ● leadership and organized qualities.   ● ability to work under pressure.   details:   ● father’s name      : maneri swamy nadha   ● date of birth         : 11-09-2002   ● languages known: english,hindi and  telugu   ● ',\n",
       " 'hobbies': 'hobbies                  : browsing internet to know new things and watching movies.    ● achievement          : i got 2nd dan black belt in karate   reference:   i, rupesh kumar do hereby confirm that all the details furnished above are true to  the best of my knowledge and belief.   date:    place:  (rupesh  kumar.m)    '}"
      ]
     },
     "execution_count": 14,
     "metadata": {},
     "output_type": "execute_result"
    }
   ],
   "source": [
    "#Displaying the parsed content\n",
    "parsed_content"
   ]
  },
  {
   "cell_type": "code",
   "execution_count": null,
   "metadata": {
    "id": "YvhhFjYMeDC1"
   },
   "outputs": [],
   "source": [
    "import json\n",
    "with open(\"Parsed_Resume.json\", \"w\") as outfile:\n",
    "    json.dump(parsed_content, outfile)"
   ]
  },
  {
   "cell_type": "markdown",
   "metadata": {
    "id": "UmUoo5Ymjnsd"
   },
   "source": [
    "Displaying the contents of json file"
   ]
  },
  {
   "cell_type": "code",
   "execution_count": null,
   "metadata": {
    "colab": {
     "base_uri": "https://localhost:8080/"
    },
    "executionInfo": {
     "elapsed": 8,
     "status": "ok",
     "timestamp": 1689004084131,
     "user": {
      "displayName": "Malave Navanishwara Rao",
      "userId": "11311349866932830278"
     },
     "user_tz": -330
    },
    "id": "dEcJCpZNeC_f",
    "outputId": "badbe2b2-9e3b-4562-908d-ad702076b205"
   },
   "outputs": [
    {
     "name": "stdout",
     "output_type": "stream",
     "text": [
      "{\n",
      "    \"E-mail\": [\n",
      "        \"rupeshkumarrlr@gmail.com\"\n",
      "    ],\n",
      "    \"Phone number\": [\n",
      "        \"9193989456\"\n",
      "    ],\n",
      "    \"objective\": \"objective:   to be an integral part of a competitive work environment, which would help me  grow, both on the intellectual and personal front while contributing to the growth and  success of the organization.   \",\n",
      "    \"education\": \"educationalqualification:   institution   board/  university   examination  year of  passing   % obtained   sri venkateshwara  engineering college,  tirupati.   jntua b. tech (cse) 2024 73.06   s.r junior college,  tirupati   intermediate mpc 2020 7.75(cgpa)   sri raju e.m. high  school   ssc 10th standard 2018 8.7(gpa)   technicalprofile:   \\uf0b7 programming languages:   c , html ,css   internship & courses:   \\u25cf yhills edutech (06/2023 \\u2013 present)  \\u2022 learning python with machine learning    \\u25cf colour detection project (06/2022 \\u2013 06/2022)  \\u25cf doctor visit analysis using python (07/2023 \\u2013 present)   \",\n",
      "    \"skills\": \"skills:   \\u25cf c programming   \\u25cf html & css   \\u25cf microsoft office  ( word,excel,power  point )              strengths:   \\u25cf adaptive.   \\u25cf work well in a team or individually.   \\u25cf leadership and organized qualities.   \\u25cf ability to work under pressure.   details:   \\u25cf father\\u2019s name      : maneri swamy nadha   \\u25cf date of birth         : 11-09-2002   \\u25cf languages known: english,hindi and  telugu   \\u25cf \",\n",
      "    \"hobbies\": \"hobbies                  : browsing internet to know new things and watching movies.    \\u25cf achievement          : i got 2nd dan black belt in karate   reference:   i, rupesh kumar do hereby confirm that all the details furnished above are true to  the best of my knowledge and belief.   date:    place:  (rupesh  kumar.m)    \"\n",
      "}\n"
     ]
    }
   ],
   "source": [
    "a_file = open(\"Parsed_Resume.json\", \"r\")\n",
    "a_json = json.load(a_file)\n",
    "pretty_json = json.dumps(a_json, indent=4)\n",
    "a_file.close()\n",
    "print(pretty_json)"
   ]
  },
  {
   "cell_type": "code",
   "execution_count": null,
   "metadata": {
    "id": "SDdBN_VDeC82"
   },
   "outputs": [],
   "source": []
  },
  {
   "cell_type": "code",
   "execution_count": null,
   "metadata": {
    "id": "vU_3uEjGeMrj"
   },
   "outputs": [],
   "source": []
  },
  {
   "cell_type": "code",
   "execution_count": null,
   "metadata": {
    "id": "bH4XrQ5oeMoN"
   },
   "outputs": [],
   "source": []
  },
  {
   "cell_type": "code",
   "execution_count": null,
   "metadata": {
    "id": "r-daUnbMeMmB"
   },
   "outputs": [],
   "source": []
  }
 ],
 "metadata": {
  "colab": {
   "authorship_tag": "ABX9TyM8iT0Qy7n6ndzOM7perbG8",
   "provenance": []
  },
  "kernelspec": {
   "display_name": "Python 3 (ipykernel)",
   "language": "python",
   "name": "python3"
  },
  "language_info": {
   "codemirror_mode": {
    "name": "ipython",
    "version": 3
   },
   "file_extension": ".py",
   "mimetype": "text/x-python",
   "name": "python",
   "nbconvert_exporter": "python",
   "pygments_lexer": "ipython3",
   "version": "3.9.6"
  }
 },
 "nbformat": 4,
 "nbformat_minor": 1
}
